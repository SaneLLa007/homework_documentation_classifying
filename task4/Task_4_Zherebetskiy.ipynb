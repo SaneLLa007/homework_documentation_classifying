{
 "cells": [
  {
   "cell_type": "markdown",
   "metadata": {},
   "source": [
    "# Линейная регрессия"
   ]
  },
  {
   "cell_type": "markdown",
   "metadata": {},
   "source": [
    "Данные содержатся в файле `data/lin_reg.txt`. Прочитать их можно следующим так:"
   ]
  },
  {
   "cell_type": "code",
   "execution_count": 1,
   "metadata": {},
   "outputs": [],
   "source": [
    "import numpy as np\n",
    "import matplotlib.pyplot as plt\n",
    "D = np.loadtxt('./lin_reg.txt', delimiter=',')\n",
    "X = D[:, :-1]\n",
    "Y = D[:, -1]"
   ]
  },
  {
   "cell_type": "markdown",
   "metadata": {},
   "source": [
    "При выполнении заданий **нельзя** пользоваться `scikit-learn` и т.п., только `NumPy`/`JAX`/`TF`/`PyTorch` и `matplotlib`/`seaborn`/`plotly`/etc.\n",
    "\n",
    "1. Нарисуйте график среднеквадратичной ошибки в зависимости от параметра регуляризации $\\alpha$, используя полные данные для обучения и для тестирования. \n",
    "2. Подготовьте исходные данные для 5 fold CV.\n",
    "3. С помощью CV найдите оптимальное значение $\\alpha$ на какой-нибудь сетке значений.\n",
    "4. Постройте валидационную кривую. \n",
    "5. Постройте кривую обучения."
   ]
  },
  {
   "cell_type": "code",
   "execution_count": 2,
   "metadata": {},
   "outputs": [],
   "source": [
    "def mse(y_predicted, y_true):\n",
    "    assert len(y_predicted) == len(y_true)\n",
    "    return (np.sum((y_predicted - y_true)**2)) / len(y_predicted)"
   ]
  },
  {
   "cell_type": "code",
   "execution_count": 3,
   "metadata": {},
   "outputs": [],
   "source": [
    "class NormalLR:\n",
    "    def __init__(self, weights = np.zeros((1, 1)), theta = 0):\n",
    "        # theta is regularization factor, theta = 0 by default\n",
    "        self.weights = weights\n",
    "        self.theta = theta\n",
    "    \n",
    "    def fit(self, X, y):\n",
    "        X = np.concatenate((X, np.ones((X.shape[0], 1))), axis = 1)\n",
    "\n",
    "        # we will use regularization here (theta * identity matrix)\n",
    "        inversed_matrix = np.linalg.inv(X.T @ X + self.theta * np.eye(X.shape[1]))\n",
    "        self.weights = inversed_matrix @ X.T @ y\n",
    "        \n",
    "    def predict(self, X):\n",
    "        X =  np.concatenate((X, np.ones((X.shape[0], 1))), axis = 1)\n",
    "        return X @ self.weights"
   ]
  },
  {
   "cell_type": "code",
   "execution_count": 4,
   "metadata": {},
   "outputs": [
    {
     "name": "stdout",
     "output_type": "stream",
     "text": [
      "0.0\n"
     ]
    },
    {
     "data": {
      "image/png": "[encoded data removed]",
      "text/plain": [
       "<Figure size 432x288 with 1 Axes>"
      ]
     },
     "metadata": {
      "needs_background": "light"
     },
     "output_type": "display_data"
    }
   ],
   "source": [
    "theta_values = np.linspace(0,10,1000)\n",
    "mse_scores = []\n",
    "lowest_mse = 1000000\n",
    "best_theta = -1\n",
    "for theta in theta_values:\n",
    "    model = NormalLR(theta = theta)\n",
    "    model.fit(X, Y)\n",
    "    y_predicted = model.predict(X)\n",
    "    current_error = mse(Y, y_predicted)\n",
    "    \n",
    "    if current_error < lowest_mse:\n",
    "        lowest_mse = current_error\n",
    "        best_theta = theta\n",
    "    mse_scores.append(current_error)\n",
    "    \n",
    "print(best_theta)\n",
    "plt.plot(theta_values, mse_scores)\n",
    "plt.show()"
   ]
  },
  {
   "cell_type": "code",
   "execution_count": 5,
   "metadata": {},
   "outputs": [],
   "source": [
    "def get_folds(y):\n",
    "    indices = np.random.permutation(np.arange(len(y)))\n",
    "    fold_size = len(y) // 5\n",
    "    return [indices[:fold_size],\n",
    "            indices[fold_size : 2 * fold_size],\n",
    "            indices[2 * fold_size : 3 * fold_size],\n",
    "            indices[3 * fold_size : 4 * fold_size],\n",
    "            indices[4 * fold_size :]]"
   ]
  },
  {
   "cell_type": "code",
   "execution_count": 6,
   "metadata": {},
   "outputs": [],
   "source": [
    "def validation_curve(X, y):\n",
    "    list_of_folds = get_folds(y)\n",
    "    fold_list = np.arange(5)\n",
    "    \n",
    "    errors_on_train = []\n",
    "    errors_on_validation = []\n",
    "    for theta in theta_values:\n",
    "        \n",
    "        #ошибки для текущих значений theta\n",
    "        cur_tr_errors = []\n",
    "        cur_val_errors = []\n",
    "        \n",
    "        for (i, fold) in enumerate(list_of_folds):\n",
    "            #разделили данные\n",
    "            tr_indeces = []\n",
    "            for j in np.delete(fold_list, i):\n",
    "                tr_indeces += list(list_of_folds[j])\n",
    "            tr_indeces = np.asarray(tr_indeces)\n",
    "            val_indeces = fold\n",
    "            \n",
    "            #обучили модель\n",
    "            regr = NormalLR(theta=theta)\n",
    "            X_train = X[tr_indeces]\n",
    "            y_train = y[tr_indeces]\n",
    "            regr.fit(X_train, y_train)\n",
    "            \n",
    "            #посчитали ошибки\n",
    "            mse_on_tr = mse(regr.predict(X_train), y_train)\n",
    "            val_on_val = mse(regr.predict(X[val_indeces]), y[val_indeces])\n",
    "            cur_tr_errors.append(mse_on_tr)\n",
    "            cur_val_errors.append(val_on_val)\n",
    "            \n",
    "        errors_on_train.append(np.mean(cur_tr_errors))\n",
    "        errors_on_validation.append(np.mean(cur_val_errors))\n",
    "        \n",
    "    return errors_on_train, errors_on_validation\n"
   ]
  },
  {
   "cell_type": "code",
   "execution_count": 7,
   "metadata": {},
   "outputs": [
    {
     "data": {
      "image/png": "[encoded data removed]",
      "text/plain": [
       "<Figure size 432x288 with 1 Axes>"
      ]
     },
     "metadata": {
      "needs_background": "light"
     },
     "output_type": "display_data"
    },
    {
     "name": "stdout",
     "output_type": "stream",
     "text": [
      "best regulization parametr is  15.14189325304352\n"
     ]
    }
   ],
   "source": [
    "theta_values = np.logspace(-3, 3, 1000)\n",
    "train_errors, validation_errors = validation_curve(X, Y)\n",
    "plt.figure()\n",
    "plt.plot(theta_values, train_errors)\n",
    "plt.plot(theta_values,  validation_errors)\n",
    "plt.show()\n",
    "best_validation_arror = 1000000\n",
    "ind_of_best_val_er = -1\n",
    "for (i, er) in enumerate(validation_errors):\n",
    "    if (best_validation_arror > er):\n",
    "        best_validation_arror = er\n",
    "        ind_of_best_val_er = i\n",
    "print('best regulization parametr is ', theta_values[ind_of_best_val_er])"
   ]
  },
  {
   "cell_type": "code",
   "execution_count": 8,
   "metadata": {},
   "outputs": [],
   "source": [
    "def learning_curve(X, y, theta):\n",
    "    list_of_folds = get_folds(y)\n",
    "    fold_list = np.arange(5)\n",
    "    \n",
    "    errors_on_train = []\n",
    "    errors_on_validation = []\n",
    "    \n",
    "    \n",
    "    for ind in range(800):\n",
    "        \n",
    "        #ошибки для текущих значений theta\n",
    "        cur_tr_errors = []\n",
    "        cur_val_errors = []\n",
    "        \n",
    "        for (i, fold) in enumerate(list_of_folds):\n",
    "            #разделили данные\n",
    "            tr_indeces = []\n",
    "            for j in np.delete(fold_list, i):\n",
    "                tr_indeces += list(list_of_folds[j])\n",
    "            tr_indeces = np.asarray(tr_indeces)\n",
    "            val_indeces = fold\n",
    "            \n",
    "            #обучили модель\n",
    "            regr = NormalLR(theta=theta)\n",
    "            X_train = X[tr_indeces][:ind+1]\n",
    "            y_train = y[tr_indeces][:ind+1]\n",
    "            regr.fit(X_train, y_train)\n",
    "            \n",
    "            #посчитали ошибки\n",
    "            mse_on_tr = mse(regr.predict(X_train), y_train)\n",
    "            val_on_val = mse(regr.predict(X[val_indeces]), y[val_indeces])\n",
    "            cur_tr_errors.append(mse_on_tr)\n",
    "            cur_val_errors.append(val_on_val)\n",
    "            \n",
    "        errors_on_train.append(np.mean(cur_tr_errors))\n",
    "        errors_on_validation.append(np.mean(cur_val_errors))\n",
    "        \n",
    "    return errors_on_train, errors_on_validation"
   ]
  },
  {
   "cell_type": "code",
   "execution_count": 9,
   "metadata": {},
   "outputs": [
    {
     "data": {
      "image/png": "[encoded data removed]",
      "text/plain": [
       "<Figure size 432x288 with 1 Axes>"
      ]
     },
     "metadata": {
      "needs_background": "light"
     },
     "output_type": "display_data"
    }
   ],
   "source": [
    "train_error, validat_error = learning_curve(X, Y, theta_values[ind_of_best_val_er])\n",
    "max_x = 0.8 * len(X)\n",
    "plt.figure()\n",
    "plt.plot(np.arange(max_x), train_error)\n",
    "plt.plot(np.arange(max_x),  validat_error)\n",
    "plt.axis([0, 500, 0, 200])\n",
    "plt.show()"
   ]
  },
  {
   "cell_type": "code",
   "execution_count": null,
   "metadata": {},
   "outputs": [],
   "source": []
  }
 ],
 "metadata": {
  "kernelspec": {
   "display_name": "Python 3",
   "language": "python",
   "name": "python3"
  },
  "language_info": {
   "codemirror_mode": {
    "name": "ipython",
    "version": 3
   },
   "file_extension": ".py",
   "mimetype": "text/x-python",
   "name": "python",
   "nbconvert_exporter": "python",
   "pygments_lexer": "ipython3",
   "version": "3.8.8"
  }
 },
 "nbformat": 4,
 "nbformat_minor": 4
}
